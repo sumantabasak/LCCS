{
 "cells": [
  {
   "cell_type": "markdown",
   "metadata": {},
   "source": [
    "# Loan Analysis - Exploratory Data Analysis"
   ]
  },
  {
   "attachments": {},
   "cell_type": "markdown",
   "metadata": {},
   "source": [
    "### The objective is to identify predictors of default so that at the time of loan application, we can use those variables for approval/rejection of the loan"
   ]
  },
  {
   "cell_type": "code",
   "execution_count": null,
   "metadata": {},
   "outputs": [],
   "source": [
    "import pandas as pd\n",
    "import numpy as np\n",
    "\n",
    "loan_data = pd.read_csv('loan.csv', low_memory=False)\n",
    "print(loan_data.shape)"
   ]
  },
  {
   "cell_type": "markdown",
   "metadata": {},
   "source": [
    "### Now let us understand how the data looks like"
   ]
  },
  {
   "cell_type": "code",
   "execution_count": null,
   "metadata": {},
   "outputs": [],
   "source": [
    "loan_data.head(5)"
   ]
  },
  {
   "cell_type": "markdown",
   "metadata": {},
   "source": [
    "### Now let us do missing value analysis, will discard features with more than 25% missing values"
   ]
  },
  {
   "cell_type": "code",
   "execution_count": null,
   "metadata": {},
   "outputs": [],
   "source": [
    "a = loan_data.isnull().sum(axis=0)\n",
    "\n",
    "b = np.round(loan_data.isnull().sum(axis=0) / loan_data.fillna(0).count(axis=0), 2)\n",
    "\n",
    "c = loan_data.columns\n",
    "\n",
    "missing_df = pd.DataFrame({'missing_vals' : a,  'missing_ratio' : b, 'cols' : c})"
   ]
  },
  {
   "cell_type": "code",
   "execution_count": null,
   "metadata": {},
   "outputs": [],
   "source": [
    "missing_df_g25 = missing_df[missing_df['missing_ratio'] >= 0.25]\n",
    "missing_df_g25['cols'].count()"
   ]
  },
  {
   "cell_type": "code",
   "execution_count": null,
   "metadata": {},
   "outputs": [],
   "source": [
    "drop_c = missing_df_g25['cols']\n",
    "loan_data.drop(labels = drop_c, axis =1, inplace=True)\n",
    "print(loan_data.shape)"
   ]
  },
  {
   "cell_type": "code",
   "execution_count": null,
   "metadata": {},
   "outputs": [],
   "source": [
    "int_feat = loan_data._get_numeric_data().columns.tolist()\n",
    "print(\"Numeric variables are - \", int_feat)\n",
    "cat_feat = list(loan_data.select_dtypes(include=['object']).columns)\n",
    "print(\"Categorical variables are - \",cat_feat)"
   ]
  },
  {
   "cell_type": "markdown",
   "metadata": {},
   "source": [
    "### Let's get rid of features of no use"
   ]
  },
  {
   "cell_type": "code",
   "execution_count": null,
   "metadata": {},
   "outputs": [],
   "source": [
    "drop_c1 = ['id', 'member_id', 'url', 'zip_code']\n",
    "loan_data.drop(labels = drop_c1, axis =1, inplace=True)\n",
    "print(loan_data.shape)"
   ]
  },
  {
   "attachments": {},
   "cell_type": "markdown",
   "metadata": {},
   "source": [
    "### Customer behavior variables are not available at the time of loan application, and thus they cannot be used as predictors for credit approval. Getting rid of these features."
   ]
  },
  {
   "cell_type": "code",
   "execution_count": null,
   "metadata": {},
   "outputs": [],
   "source": [
    "con_var = ['delinq_2yrs', 'earliest_cr_line', 'inq_last_6mths', 'open_acc', 'pub_rec', 'revol_bal', 'revol_util',\n",
    "           'total_acc', 'out_prncp', 'out_prncp_inv', 'total_pymnt', 'total_pymnt_inv', 'total_rec_prncp', 'total_rec_int',\n",
    "           'total_rec_late_fee', 'recoveries', 'collection_recovery_fee', 'last_pymnt_d', 'last_pymnt_amnt', \n",
    "           'last_credit_pull_d', 'application_type']\n",
    "loan_data.drop(labels = con_var, axis =1, inplace=True)\n",
    "print(loan_data.shape)"
   ]
  },
  {
   "cell_type": "code",
   "execution_count": null,
   "metadata": {},
   "outputs": [],
   "source": [
    "int_feat = loan_data._get_numeric_data().columns.tolist()\n",
    "print(\"Numeric variables are - \", int_feat)\n",
    "cat_feat = list(loan_data.select_dtypes(include=['object']).columns)\n",
    "print(\"Categorical variables are - \",cat_feat)"
   ]
  },
  {
   "cell_type": "code",
   "execution_count": null,
   "metadata": {},
   "outputs": [],
   "source": [
    "loan_data.info()"
   ]
  },
  {
   "cell_type": "code",
   "execution_count": null,
   "metadata": {},
   "outputs": [],
   "source": [
    "loan_data = loan_data[loan_data.loan_status != \"Current\"]\n",
    "print(loan_data.shape)"
   ]
  },
  {
   "cell_type": "code",
   "execution_count": null,
   "metadata": {},
   "outputs": [],
   "source": [
    "loan_data['int_rate'] = loan_data['int_rate'].str.rstrip(\"%\").astype(float)"
   ]
  },
  {
   "cell_type": "code",
   "execution_count": null,
   "metadata": {},
   "outputs": [],
   "source": [
    "loan_data['loan_status_binary'] = loan_data.loan_status.apply(lambda x: 0 if x =='Fully Paid' else 1)"
   ]
  },
  {
   "cell_type": "code",
   "execution_count": null,
   "metadata": {},
   "outputs": [],
   "source": [
    "loan_data.head()"
   ]
  },
  {
   "cell_type": "markdown",
   "metadata": {},
   "source": [
    "### Now let us start with univariate analysis - Try understand on continuous variables (Binning might be good for these features)"
   ]
  },
  {
   "cell_type": "code",
   "execution_count": null,
   "metadata": {},
   "outputs": [],
   "source": [
    "import matplotlib.pyplot as plt\n",
    "%matplotlib inline\n",
    "import seaborn as sns\n",
    "\n",
    "## Loan Amount\n",
    "print(loan_data[\"loan_amnt\"].describe())\n",
    "\n",
    "import plotly.express as px\n",
    "df = px.data.tips()\n",
    "fig = px.histogram(loan_data, x=\"loan_amnt\")\n",
    "fig.show()"
   ]
  },
  {
   "cell_type": "code",
   "execution_count": null,
   "metadata": {
    "scrolled": true
   },
   "outputs": [],
   "source": [
    "bins = [0, 5000, 10000, 15000, 20000, 25000, 35000]\n",
    "slot = ['0-5,000', '5,000-10,000', '10,000-15,000', '15,000-20,000', '20,000-25,000','> 25,000']\n",
    "loan_data['loan_amnt_range'] = pd.cut(loan_data['loan_amnt'], bins, labels=slot)\n",
    "\n",
    "import plotly.express as px\n",
    "df = px.data.tips()\n",
    "fig = px.histogram(loan_data, x=\"loan_amnt_range\", \n",
    "                   category_orders=dict(loan_amnt_range=['0-5,000', '5,000-10,000', '10,000-15,000', '15,000-20,000', '20,000-25,000','> 25,000']))\n",
    "fig.show()"
   ]
  },
  {
   "cell_type": "code",
   "execution_count": null,
   "metadata": {},
   "outputs": [],
   "source": [
    "## Annual Income\n",
    "pd.set_option('float_format', '{:f}'.format)\n",
    "print(loan_data[\"annual_inc\"].describe())"
   ]
  },
  {
   "cell_type": "markdown",
   "metadata": {},
   "source": [
    "#### Though median value is 59K, the highest value is quite high. We need to remove outliers and see."
   ]
  },
  {
   "cell_type": "code",
   "execution_count": null,
   "metadata": {},
   "outputs": [],
   "source": [
    "q = loan_data[\"annual_inc\"].quantile(0.99)\n",
    "loan_data = loan_data[loan_data[\"annual_inc\"] < q]\n",
    "loan_data[\"annual_inc\"].describe()"
   ]
  },
  {
   "cell_type": "code",
   "execution_count": null,
   "metadata": {},
   "outputs": [],
   "source": [
    "bins = [0, 25000, 50000, 75000, 100000, 1000000]\n",
    "slot = ['0-25,000', '25,000-50,000', '50,000-75,000', '75,000-1,00,000', '1,00,000 and above']\n",
    "loan_data['annual_inc_range'] = pd.cut(loan_data['annual_inc'], bins, labels=slot)"
   ]
  },
  {
   "cell_type": "code",
   "execution_count": null,
   "metadata": {},
   "outputs": [],
   "source": [
    "df = px.data.tips()\n",
    "fig = px.histogram(loan_data, x=\"annual_inc_range\")\n",
    "fig.show()"
   ]
  },
  {
   "cell_type": "code",
   "execution_count": null,
   "metadata": {},
   "outputs": [],
   "source": [
    "## DTI\n",
    "print(loan_data[\"dti\"].describe())\n",
    "\n",
    "df = px.data.tips()\n",
    "fig = px.histogram(loan_data, x=\"dti\")\n",
    "fig.show()"
   ]
  },
  {
   "cell_type": "code",
   "execution_count": null,
   "metadata": {},
   "outputs": [],
   "source": [
    "bins = [0, 5, 10, 15, 20, 25, 30]\n",
    "slot = ['0-5', '5-10', '10-15', '15-20', '25-30', '>30']\n",
    "loan_data['dti_range'] = pd.cut(loan_data['dti'], bins, labels=slot)\n",
    "\n",
    "df = px.data.tips()\n",
    "fig = px.histogram(loan_data, x=\"dti_range\",\n",
    "                  category_orders=dict(dti_range=['0-5', '5-10', '10-15', '15-20', '25-30', '>30']))\n",
    "fig.show()"
   ]
  },
  {
   "cell_type": "code",
   "execution_count": null,
   "metadata": {},
   "outputs": [],
   "source": [
    "import plotly.offline as py \n",
    "py.init_notebook_mode(connected=True) # this code, allow us to work with offline plotly version\n",
    "import plotly.graph_objs as go # it's like \"plt\" of matplot\n",
    "import plotly.tools as tls # It's useful to we get some tools of plotly\n",
    "import warnings # This library will be used to ignore some warnings\n",
    "from collections import Counter # To do counter of some features\n",
    "\n",
    "\n",
    "tr0 = go.Bar(\n",
    "    x = loan_data[loan_data['loan_status']== 'Fully Paid'][\"loan_status\"].value_counts().index.values,\n",
    "    y = loan_data[loan_data['loan_status']== 'Fully Paid'][\"loan_status\"].value_counts().values,\n",
    "    name='Fully Paid'\n",
    ")\n",
    "\n",
    "#Second plot\n",
    "tr1 = go.Bar(\n",
    "    x = loan_data[loan_data['loan_status']== 'Charged Off'][\"loan_status\"].value_counts().index.values,\n",
    "    y = loan_data[loan_data['loan_status']== 'Charged Off'][\"loan_status\"].value_counts().values,\n",
    "    name='Charged Off'\n",
    ")\n",
    "\n",
    "data = [tr0, tr1]\n",
    "\n",
    "layout = go.Layout(\n",
    "    \n",
    ")\n",
    "\n",
    "layout = go.Layout(\n",
    "    yaxis=dict(\n",
    "        title='Count'\n",
    "    ),\n",
    "    xaxis=dict(\n",
    "        title='Loan payment Status'\n",
    "    ),\n",
    "    title='Loan Payment Status'\n",
    ")\n",
    "\n",
    "fig = go.Figure(data=data, layout=layout)\n",
    "\n",
    "py.iplot(fig, filename='grouped-bar')"
   ]
  },
  {
   "cell_type": "code",
   "execution_count": null,
   "metadata": {},
   "outputs": [],
   "source": [
    "import matplotlib.pyplot as plt\n",
    "import seaborn as sns\n",
    "\n",
    "\n",
    "def generate_graph(x_val):\n",
    "    loan_data[x_val] = pd.Categorical(loan_data[x_val], categories=['0-5,000', '5,000-10,000', '10,000-15,000', '15,000-20,000', '20,000-25,000','> 25,000'],\n",
    "                                   ordered=True)\n",
    "    #result = loan_data.groupby([x_val])['loan_status_binary'].aggregate(sum).reset_index().sort_values('loan_status_binary')\n",
    "    splot = sns.barplot(x=x_val, y='loan_status_binary',\n",
    "                        data=loan_data, estimator=lambda x: sum(x) / len(x) * 100, palette=\"RdYlBu\")\n",
    "    plt.xticks(rotation='vertical')\n",
    "    for p in splot.patches:\n",
    "        splot.annotate(format(p.get_height(), '.1f'),\n",
    "                       (p.get_x() + p.get_width() / 2., p.get_height()),\n",
    "                       ha = 'center', va = 'center',\n",
    "                       xytext = (0, 10),\n",
    "                       textcoords = 'offset points')\n",
    "\n",
    "\n",
    "generate_graph('loan_amnt_range')\n",
    "plt.xlabel(\" Loan Amount\", size=16)\n",
    "plt.ylabel(\" % of default \", size=16)"
   ]
  },
  {
   "cell_type": "markdown",
   "metadata": {},
   "source": [
    "### How the home ownership helps in understanding who are more like to pay-off"
   ]
  },
  {
   "cell_type": "code",
   "execution_count": null,
   "metadata": {},
   "outputs": [],
   "source": [
    "#First plot\n",
    "tr0 = go.Bar(\n",
    "    x = loan_data[loan_data['loan_status']== 'Fully Paid'][\"home_ownership\"].value_counts().index.values,\n",
    "    y = loan_data[loan_data['loan_status']== 'Fully Paid'][\"home_ownership\"].value_counts().values,\n",
    "    name='Fully Paid'\n",
    ")\n",
    "\n",
    "#Second plot\n",
    "tr1 = go.Bar(\n",
    "    x = loan_data[loan_data['loan_status']== 'Charged Off'][\"home_ownership\"].value_counts().index.values,\n",
    "    y = loan_data[loan_data['loan_status']== 'Charged Off'][\"home_ownership\"].value_counts().values,\n",
    "    name='Charged Off'\n",
    ")\n",
    "\n",
    "data = [tr0, tr1]\n",
    "\n",
    "layout = go.Layout(title='Home Ownership Distribution')\n",
    "\n",
    "\n",
    "fig = go.Figure(data=data, layout=layout)\n",
    "\n",
    "py.iplot(fig, filename='Home-Ownership')"
   ]
  },
  {
   "cell_type": "code",
   "execution_count": null,
   "metadata": {},
   "outputs": [],
   "source": [
    "def generate_graph(x_val):\n",
    "    loan_data[x_val] = pd.Categorical(loan_data[x_val], categories=['RENT', 'MORTGAGE', 'OWN', 'OTHER', 'NONE'],\n",
    "                                   ordered=True)\n",
    "    #result = loan_data.groupby([x_val])['loan_status_binary'].aggregate(sum).reset_index().sort_values('loan_status_binary')\n",
    "    splot = sns.barplot(x=x_val, y='loan_status_binary',\n",
    "                        data=loan_data, estimator=lambda x: sum(x) / len(x) * 100, palette=\"RdYlBu\")\n",
    "    plt.xticks(rotation='vertical')\n",
    "    for p in splot.patches:\n",
    "        splot.annotate(format(p.get_height(), '.1f'),\n",
    "                       (p.get_x() + p.get_width() / 2., p.get_height()),\n",
    "                       ha = 'center', va = 'center',\n",
    "                       xytext = (0, 10),\n",
    "                       textcoords = 'offset points')\n",
    "        \n",
    "generate_graph('home_ownership')\n",
    "plt.xlabel(\" Home Ownership \")\n",
    "plt.ylabel(\" % of default \")"
   ]
  },
  {
   "cell_type": "markdown",
   "metadata": {},
   "source": [
    "### Now, let us understand if the purpose of loan taken & loan amount has any relation with loan payment"
   ]
  },
  {
   "cell_type": "code",
   "execution_count": null,
   "metadata": {
    "scrolled": true
   },
   "outputs": [],
   "source": [
    "df_fp = loan_data[loan_data['loan_status']== 'Fully Paid']\n",
    "df_co = loan_data[loan_data['loan_status']== 'Charged Off']\n",
    "\n",
    "tr0 = go.Box(y=df_fp[\"loan_amnt\"], x=df_fp[\"purpose\"], name='Fully Paid', marker=dict(color='#3D9970'))\n",
    "\n",
    "tr1 = go.Box(y=df_co[\"loan_amnt\"], x=df_co[\"purpose\"], name='Charged Off', marker=dict(color='#FF4136'))\n",
    "    \n",
    "data = [tr0, tr1]\n",
    "\n",
    "layout = go.Layout(yaxis=dict(title='Loan Amount Range', zeroline=False),\n",
    "                   xaxis=dict(title='Purpose of Loan Taken'), boxmode='group')\n",
    "fig = go.Figure(data=data, layout=layout)\n",
    "\n",
    "py.iplot(fig, filename='box-age-cat')"
   ]
  },
  {
   "cell_type": "markdown",
   "metadata": {},
   "source": [
    "### How the home ownership type alongwith annual income helps in understanding who are more like to pay-off"
   ]
  },
  {
   "cell_type": "code",
   "execution_count": null,
   "metadata": {},
   "outputs": [],
   "source": [
    "df_fp = loan_data[loan_data['loan_status']== 'Fully Paid']\n",
    "df_co = loan_data[loan_data['loan_status']== 'Charged Off']\n",
    "\n",
    "tr0 = go.Box(y=df_fp[\"annual_inc\"], x=df_fp[\"home_ownership\"], name='Fully Paid', marker=dict(color='#3D9970'))\n",
    "\n",
    "tr1 = go.Box(y=df_co[\"annual_inc\"], x=df_co[\"home_ownership\"], name='Charged Off', marker=dict(color='#FF4136'))\n",
    "    \n",
    "data = [tr0, tr1]\n",
    "\n",
    "layout = go.Layout(yaxis=dict(title='Annual Income', zeroline=False),\n",
    "                   xaxis=dict(title='Home Ownership Status'), boxmode='group')\n",
    "\n",
    "fig = go.Figure(data=data, layout=layout)\n",
    "\n",
    "py.iplot(fig, filename='box-age-cat')"
   ]
  },
  {
   "cell_type": "markdown",
   "metadata": {},
   "source": [
    "### How the home ownership along with interest rate charged on loans helps in understanding who are more like to pay-off"
   ]
  },
  {
   "cell_type": "code",
   "execution_count": null,
   "metadata": {},
   "outputs": [],
   "source": [
    "df_fp = loan_data[loan_data['loan_status']== 'Fully Paid']\n",
    "df_co = loan_data[loan_data['loan_status']== 'Charged Off']\n",
    "\n",
    "tr0 = go.Box(y=df_fp[\"int_rate\"], x=df_fp[\"home_ownership\"], name='Fully Paid', marker=dict(color='#3D9970'))\n",
    "\n",
    "tr1 = go.Box(y=df_co[\"int_rate\"], x=df_co[\"home_ownership\"], name='Charged Off', marker=dict(color='#FF4136'))\n",
    "    \n",
    "data = [tr0, tr1]\n",
    "\n",
    "layout = go.Layout(yaxis=dict(title='Interest Rate', zeroline=False),\n",
    "                   xaxis=dict(title='Home Ownership Status'), boxmode='group')\n",
    "\n",
    "fig = go.Figure(data=data, layout=layout)\n",
    "\n",
    "py.iplot(fig, filename='box-age-cat')"
   ]
  },
  {
   "cell_type": "markdown",
   "metadata": {},
   "source": [
    "### Does installment paied for loans helps in understanding who are more like to pay-off"
   ]
  },
  {
   "cell_type": "code",
   "execution_count": null,
   "metadata": {},
   "outputs": [],
   "source": [
    "df_fp = loan_data[loan_data['loan_status']== 'Fully Paid']\n",
    "df_co = loan_data[loan_data['loan_status']== 'Charged Off']\n",
    "\n",
    "tr0 = go.Box(y=df_fp[\"installment\"], x=df_fp[\"home_ownership\"], name='Fully Paid', marker=dict(color='#3D9970'))\n",
    "\n",
    "tr1 = go.Box(y=df_co[\"installment\"], x=df_co[\"home_ownership\"], name='Charged Off', marker=dict(color='#FF4136'))\n",
    "    \n",
    "data = [tr0, tr1]\n",
    "\n",
    "layout = go.Layout(yaxis=dict(title='Installment', zeroline=False),\n",
    "                   xaxis=dict(title='Home Owenership Status'), boxmode='group')\n",
    "\n",
    "fig = go.Figure(data=data, layout=layout)\n",
    "\n",
    "py.iplot(fig, filename='box-age-cat')"
   ]
  },
  {
   "cell_type": "markdown",
   "metadata": {},
   "source": [
    "### Which tenured employees are possibly most risky to pay-off the loan"
   ]
  },
  {
   "cell_type": "code",
   "execution_count": null,
   "metadata": {},
   "outputs": [],
   "source": [
    "#First plot\n",
    "tr0 = go.Bar(\n",
    "    x = loan_data[loan_data['loan_status']== 'Fully Paid'][\"emp_length\"].value_counts().index.values,\n",
    "    y = loan_data[loan_data['loan_status']== 'Fully Paid'][\"emp_length\"].value_counts().values,\n",
    "    name='Fully Paid'\n",
    ")\n",
    "\n",
    "#Second plot\n",
    "tr1 = go.Bar(\n",
    "    x = loan_data[loan_data['loan_status']== 'Charged Off'][\"emp_length\"].value_counts().index.values,\n",
    "    y = loan_data[loan_data['loan_status']== 'Charged Off'][\"emp_length\"].value_counts().values,\n",
    "    name='Charged Off'\n",
    ")\n",
    "\n",
    "data = [tr0, tr1]\n",
    "\n",
    "layout = go.Layout(title='Employee Length Distribution')\n",
    "\n",
    "\n",
    "fig = go.Figure(data=data, layout=layout)\n",
    "\n",
    "py.iplot(fig, filename='Emp_Length')"
   ]
  },
  {
   "cell_type": "markdown",
   "metadata": {},
   "source": [
    "### Does the borrower background verification of income help in understanding who are more like to pay-off"
   ]
  },
  {
   "cell_type": "code",
   "execution_count": null,
   "metadata": {},
   "outputs": [],
   "source": [
    "#First plot\n",
    "tr0 = go.Bar(\n",
    "    x = loan_data[loan_data['loan_status']== 'Fully Paid'][\"verification_status\"].value_counts().index.values,\n",
    "    y = loan_data[loan_data['loan_status']== 'Fully Paid'][\"verification_status\"].value_counts().values,\n",
    "    name='Fully Paid'\n",
    ")\n",
    "\n",
    "#Second plot\n",
    "tr1 = go.Bar(\n",
    "    x = loan_data[loan_data['loan_status']== 'Charged Off'][\"verification_status\"].value_counts().index.values,\n",
    "    y = loan_data[loan_data['loan_status']== 'Charged Off'][\"verification_status\"].value_counts().values,\n",
    "    name='Charged Off'\n",
    ")\n",
    "\n",
    "data = [tr0, tr1]\n",
    "\n",
    "layout = go.Layout(title='Income Verification Status')\n",
    "\n",
    "\n",
    "fig = go.Figure(data=data, layout=layout)\n",
    "\n",
    "py.iplot(fig, filename='Emp_VS')"
   ]
  },
  {
   "cell_type": "markdown",
   "metadata": {},
   "source": [
    "### Does the verification status alongwith borrower annual income help in understanding who are more like to pay-off"
   ]
  },
  {
   "cell_type": "code",
   "execution_count": null,
   "metadata": {},
   "outputs": [],
   "source": [
    "df_fp = loan_data[loan_data['loan_status']== 'Fully Paid']\n",
    "df_co = loan_data[loan_data['loan_status']== 'Charged Off']\n",
    "\n",
    "tr0 = go.Box(y=df_fp[\"annual_inc\"], x=df_fp[\"verification_status\"], name='Fully Paid', marker=dict(color='#3D9970'))\n",
    "\n",
    "tr1 = go.Box(y=df_co[\"annual_inc\"], x=df_co[\"verification_status\"], name='Charged Off', marker=dict(color='#FF4136'))\n",
    "    \n",
    "data = [tr0, tr1]\n",
    "\n",
    "layout = go.Layout(yaxis=dict(title='Loan Amount', zeroline=False),\n",
    "                   xaxis=dict(title='Verification Status'), boxmode='group')\n",
    "\n",
    "fig = go.Figure(data=data, layout=layout)\n",
    "\n",
    "py.iplot(fig, filename='box-age-cat')"
   ]
  }
 ],
 "metadata": {
  "kernelspec": {
   "display_name": "Python 3",
   "language": "python",
   "name": "python3"
  },
  "language_info": {
   "codemirror_mode": {
    "name": "ipython",
    "version": 3
   },
   "file_extension": ".py",
   "mimetype": "text/x-python",
   "name": "python",
   "nbconvert_exporter": "python",
   "pygments_lexer": "ipython3",
   "version": "3.8.5"
  }
 },
 "nbformat": 4,
 "nbformat_minor": 4
}
